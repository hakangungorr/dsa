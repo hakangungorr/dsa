{
  "nbformat": 4,
  "nbformat_minor": 0,
  "metadata": {
    "colab": {
      "provenance": [],
      "authorship_tag": "ABX9TyNh2LEk7sG0V7+8Cbg9pl+L",
      "include_colab_link": true
    },
    "kernelspec": {
      "name": "python3",
      "display_name": "Python 3"
    },
    "language_info": {
      "name": "python"
    }
  },
  "cells": [
    {
      "cell_type": "markdown",
      "metadata": {
        "id": "view-in-github",
        "colab_type": "text"
      },
      "source": [
        "<a href=\"https://colab.research.google.com/github/hakangungorr/dsa/blob/main/Chapter2.ipynb\" target=\"_parent\"><img src=\"https://colab.research.google.com/assets/colab-badge.svg\" alt=\"Open In Colab\"/></a>"
      ]
    },
    {
      "cell_type": "code",
      "execution_count": 23,
      "metadata": {
        "id": "kdSZAgjZgv33"
      },
      "outputs": [],
      "source": [
        "\"\"\"\n",
        " R-2.4 Write a Python class, Flower, that has three instance variables of type str,\n",
        " int,andfloat, that respectively represent the name of the flower, its num\n",
        "ber of petals, and its price. Your class must include a constructor method\n",
        " that initializes each variable to an appropriate value, and your class should\n",
        " include methods for setting the value of each type, and retrieving the value\n",
        " of each type.\"\"\"\n",
        "\n",
        "class Flower():\n",
        "  def __init__(self,name:str, petals:int, price:float):\n",
        "    self.name = name\n",
        "    self.petals = petals\n",
        "    self.price = price\n",
        "\n",
        "  ###Setter Method\n",
        "  def set_name(self,name:str):\n",
        "    self.name = name\n",
        "  def set_petals(self,petals:int):\n",
        "    self.petals = petals\n",
        "  def set_price(self,price:float):\n",
        "    self.price = price\n",
        "\n",
        "  ###Getter Method\n",
        "  def get_name(self)->str:\n",
        "    return self.name\n",
        "  def get_petals(self)->int:\n",
        "    return self.petals\n",
        "  def get_price(self)->float:\n",
        "    return self.price\n",
        "\n",
        "\n"
      ]
    },
    {
      "cell_type": "code",
      "source": [
        "if __name__ == \"__main__\":\n",
        "   flower = Flower(\"Gül\",5,20.3)\n",
        "\n",
        "   print(\"Flower name is:\", flower.get_name())\n",
        "   print(\"Flower has:\", flower.get_petals(), \"petals.\")\n",
        "   print(\"Flower price is:\", flower.get_price(), \"price.\\n\")\n",
        "\n",
        "   flower.set_name(\"Lale\")\n",
        "   flower.set_petals(6)\n",
        "   flower.set_price(32.9)\n",
        "\n",
        "\n",
        "   print(\"Güncellenmiş Bilgiler:\")\n",
        "   print(\"Çiçek Adı:\", flower.get_name())\n",
        "   print(\"Yaprak Sayısı:\", flower.get_petals())\n",
        "   print(\"Fiyat:\", flower.get_price())\n"
      ],
      "metadata": {
        "colab": {
          "base_uri": "https://localhost:8080/"
        },
        "id": "2rmmFbdfjSlQ",
        "outputId": "c055ba9f-1ddf-45cb-b570-f52347476aef"
      },
      "execution_count": 30,
      "outputs": [
        {
          "output_type": "stream",
          "name": "stdout",
          "text": [
            "Flower name is: Gül\n",
            "Flower has: 5 petals.\n",
            "Flower price is: 20.3 price.\n",
            "\n",
            "Güncellenmiş Bilgiler:\n",
            "Çiçek Adı: Lale\n",
            "Yaprak Sayısı: 6\n",
            "Fiyat: 32.9\n"
          ]
        }
      ]
    },
    {
      "cell_type": "code",
      "source": [],
      "metadata": {
        "id": "GM9xE43apbri"
      },
      "execution_count": null,
      "outputs": []
    },
    {
      "cell_type": "code",
      "source": [],
      "metadata": {
        "id": "8Vnohgq0jqVn"
      },
      "execution_count": null,
      "outputs": []
    },
    {
      "cell_type": "code",
      "source": [],
      "metadata": {
        "id": "1gt8j1J0jhyP"
      },
      "execution_count": null,
      "outputs": []
    }
  ]
}